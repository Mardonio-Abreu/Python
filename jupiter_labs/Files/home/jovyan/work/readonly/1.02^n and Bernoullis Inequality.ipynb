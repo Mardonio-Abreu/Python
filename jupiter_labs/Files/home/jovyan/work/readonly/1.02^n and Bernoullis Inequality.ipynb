{
 "cells": [
  {
   "cell_type": "code",
   "execution_count": 1,
   "metadata": {
    "collapsed": false
   },
   "outputs": [
    {
     "data": {
      "image/png": "[encoded data removed]",
      "text/plain": [
       "<matplotlib.figure.Figure at 0x4b01d30>"
      ]
     },
     "metadata": {},
     "output_type": "display_data"
    }
   ],
   "source": [
    "%matplotlib inline\n",
    "\n",
    "import matplotlib.pyplot as plt\n",
    "import numpy as np\n",
    "\n",
    "# You can play with the range of values for n and with the base 1.02, see what changes\n",
    "sample = 400\n",
    "x = np.arange(sample)\n",
    "y = 1.02 ** x\n",
    "z = 1 + 0.02 * x\n",
    "plt.plot(x, y)\n",
    "plt.xlabel('n')\n",
    "plt.ylabel('Money($)')\n",
    "plt.plot(x, z)\n",
    "plt.show()"
   ]
  },
  {
   "cell_type": "code",
   "execution_count": 4,
   "metadata": {
    "collapsed": false
   },
   "outputs": [
    {
     "name": "stdout",
     "output_type": "stream",
     "text": [
      "If you start with $1000 and earn 2% each day, you will have more than $1003367 on day 350!\n"
     ]
    }
   ],
   "source": [
    "def HowMuchMoney(starting_amount, earn_percent, day):\n",
    "    day_multiplier = 1 + (earn_percent / 100.0)\n",
    "    return starting_amount * (day_multiplier ** (day - 1))\n",
    "\n",
    "\n",
    "def PrintExample(starting_amount, earn_percent, day):\n",
    "    print(\"If you start with $%d and earn %d%% each day, you will have more than $%.0f on day %d!\" %\n",
    "          (starting_amount, earn_percent, HowMuchMoney(starting_amount, earn_percent, day), day))\n",
    "\n",
    "\n",
    "PrintExample(1000, 2, 350)"
   ]
  },
  {
   "cell_type": "code",
   "execution_count": 7,
   "metadata": {
    "collapsed": false
   },
   "outputs": [
    {
     "name": "stdout",
     "output_type": "stream",
     "text": [
      "If you start with $1000 and earn 2% each day, you will have more than $1000000 on day 350 for the first time!\n"
     ]
    }
   ],
   "source": [
    "def DayToReachTarget(starting_amount, earn_percent, target_amount):\n",
    "    day = 1\n",
    "    amount = starting_amount\n",
    "    day_multiplier = (1 + (earn_percent) / 100.0)\n",
    "    while amount < target_amount:\n",
    "        day += 1\n",
    "        amount = amount * day_multiplier\n",
    "    return day\n",
    "\n",
    "\n",
    "def PrintFirstDay(starting_amount, earn_percent, target_amount):\n",
    "    print(\"If you start with $%d and earn %d%% each day, you will have more than $%d on day %d for the first time!\" %\n",
    "          (starting_amount, earn_percent, target_amount,\n",
    "           DayToReachTarget(starting_amount, earn_percent, target_amount)))\n",
    "\n",
    "\n",
    "PrintFirstDay(1000, 2, 1000000)"
   ]
  }
 ],
 "metadata": {
  "kernelspec": {
   "display_name": "Python 2",
   "language": "python",
   "name": "python2"
  },
  "language_info": {
   "codemirror_mode": {
    "name": "ipython",
    "version": 2
   },
   "file_extension": ".py",
   "mimetype": "text/x-python",
   "name": "python",
   "nbconvert_exporter": "python",
   "pygments_lexer": "ipython2",
   "version": "2.7.13"
  }
 },
 "nbformat": 4,
 "nbformat_minor": 2
}
